{
 "cells": [
  {
   "cell_type": "code",
   "execution_count": null,
   "metadata": {
    "id": "HihRf_cOdlfr"
   },
   "outputs": [],
   "source": [
    "import pandas as pd\n",
    "import numpy as np\n",
    "import matplotlib.pyplot as plt\n",
    "import tensorflow as tf\n",
    "from tensorflow import keras\n",
    "from tensorflow.keras.optimizers import RMSprop, Adam\n",
    "from sklearn.metrics import ConfusionMatrixDisplay\n",
    "from sklearn.metrics import classification_report, confusion_matrix\n",
    "import warnings\n",
    "warnings.filterwarnings(\"ignore\")"
   ]
  },
  {
   "cell_type": "code",
   "execution_count": 2,
   "metadata": {
    "colab": {
     "base_uri": "https://localhost:8080/"
    },
    "id": "armq88xJd6q-",
    "outputId": "048a9d03-2947-49db-95d4-af855fbbbd74"
   },
   "outputs": [],
   "source": [
    "(x_train, y_train), (x_test, y_test)  = keras.datasets.cifar10.load_data()"
   ]
  },
  {
   "cell_type": "code",
   "execution_count": 3,
   "metadata": {
    "id": "qM1D13HHd6ys"
   },
   "outputs": [],
   "source": [
    "classes = [\"airplane\",\"automobile\",\"bird\",\"cat\",\"deer\",\"dog\",\"frog\",\"horse\",\"ship\",\"truck\"]"
   ]
  },
  {
   "cell_type": "code",
   "execution_count": 4,
   "metadata": {
    "id": "RaG1ggNOd62H"
   },
   "outputs": [],
   "source": [
    "y_train = y_train.reshape(-1,)"
   ]
  },
  {
   "cell_type": "code",
   "execution_count": 5,
   "metadata": {
    "id": "KFxkEJKud645"
   },
   "outputs": [],
   "source": [
    "# Reshape converting 2D to 1D\n",
    "y_test = y_test.reshape(-1,)\n",
    "y_train = y_train.reshape(-1,)"
   ]
  },
  {
   "cell_type": "code",
   "execution_count": 6,
   "metadata": {
    "id": "J-6bbGCGd67n"
   },
   "outputs": [],
   "source": [
    "# This code normalazation\n",
    "x_train = x_train / 255.0\n",
    "x_test = x_test / 255.0"
   ]
  },
  {
   "cell_type": "code",
   "execution_count": 7,
   "metadata": {
    "colab": {
     "base_uri": "https://localhost:8080/"
    },
    "id": "Vopw0JYCd6-Q",
    "outputId": "57b31e46-1c06-4891-9966-7c0ad0b5ee05"
   },
   "outputs": [
    {
     "data": {
      "text/plain": [
       "(50000, 32, 32, 3)"
      ]
     },
     "execution_count": 7,
     "metadata": {},
     "output_type": "execute_result"
    }
   ],
   "source": [
    "x_train.shape"
   ]
  },
  {
   "cell_type": "code",
   "execution_count": 16,
   "metadata": {
    "id": "JyEhvXgeeywU"
   },
   "outputs": [
    {
     "ename": "ValueError",
     "evalue": "One of the dimensions in the output is <= 0 due to downsampling in conv2d_21. Consider increasing the input size. Received input shape [None, 2, 2, 120] which would produce output shape with a zero or negative value in a dimension.",
     "output_type": "error",
     "traceback": [
      "\u001b[1;31m---------------------------------------------------------------------------\u001b[0m",
      "\u001b[1;31mValueError\u001b[0m                                Traceback (most recent call last)",
      "\u001b[1;32m~\\AppData\\Local\\Temp\\ipykernel_14864\\1321132007.py\u001b[0m in \u001b[0;36m<module>\u001b[1;34m\u001b[0m\n\u001b[0;32m      1\u001b[0m \u001b[1;32mfrom\u001b[0m \u001b[0mtensorflow\u001b[0m\u001b[1;33m.\u001b[0m\u001b[0mkeras\u001b[0m \u001b[1;32mimport\u001b[0m \u001b[0mlayers\u001b[0m\u001b[1;33m,\u001b[0m \u001b[0mmodels\u001b[0m\u001b[1;33m\u001b[0m\u001b[1;33m\u001b[0m\u001b[0m\n\u001b[1;32m----> 2\u001b[1;33m lenet = keras.models.Sequential([\n\u001b[0m\u001b[0;32m      3\u001b[0m     \u001b[0mkeras\u001b[0m\u001b[1;33m.\u001b[0m\u001b[0mlayers\u001b[0m\u001b[1;33m.\u001b[0m\u001b[0mConv2D\u001b[0m\u001b[1;33m(\u001b[0m\u001b[1;36m6\u001b[0m\u001b[1;33m,\u001b[0m \u001b[0mkernel_size\u001b[0m\u001b[1;33m=\u001b[0m\u001b[1;36m5\u001b[0m\u001b[1;33m,\u001b[0m \u001b[0mstrides\u001b[0m\u001b[1;33m=\u001b[0m\u001b[1;36m1\u001b[0m\u001b[1;33m,\u001b[0m  \u001b[0mactivation\u001b[0m\u001b[1;33m=\u001b[0m\u001b[1;34m'relu'\u001b[0m\u001b[1;33m,\u001b[0m \u001b[0minput_shape\u001b[0m\u001b[1;33m=\u001b[0m\u001b[1;33m(\u001b[0m\u001b[1;36m32\u001b[0m\u001b[1;33m,\u001b[0m\u001b[1;36m32\u001b[0m\u001b[1;33m,\u001b[0m\u001b[1;36m3\u001b[0m\u001b[1;33m)\u001b[0m\u001b[1;33m,\u001b[0m \u001b[0mpadding\u001b[0m\u001b[1;33m=\u001b[0m\u001b[1;34m'same'\u001b[0m\u001b[1;33m)\u001b[0m\u001b[1;33m,\u001b[0m \u001b[1;31m#C1\u001b[0m\u001b[1;33m\u001b[0m\u001b[1;33m\u001b[0m\u001b[0m\n\u001b[0;32m      4\u001b[0m     \u001b[0mkeras\u001b[0m\u001b[1;33m.\u001b[0m\u001b[0mlayers\u001b[0m\u001b[1;33m.\u001b[0m\u001b[0mAveragePooling2D\u001b[0m\u001b[1;33m(\u001b[0m\u001b[1;33m)\u001b[0m\u001b[1;33m,\u001b[0m \u001b[1;31m#S1\u001b[0m\u001b[1;33m\u001b[0m\u001b[1;33m\u001b[0m\u001b[0m\n\u001b[0;32m      5\u001b[0m     \u001b[0mkeras\u001b[0m\u001b[1;33m.\u001b[0m\u001b[0mlayers\u001b[0m\u001b[1;33m.\u001b[0m\u001b[0mConv2D\u001b[0m\u001b[1;33m(\u001b[0m\u001b[1;36m16\u001b[0m\u001b[1;33m,\u001b[0m \u001b[0mkernel_size\u001b[0m\u001b[1;33m=\u001b[0m\u001b[1;36m5\u001b[0m\u001b[1;33m,\u001b[0m \u001b[0mstrides\u001b[0m\u001b[1;33m=\u001b[0m\u001b[1;36m1\u001b[0m\u001b[1;33m,\u001b[0m \u001b[0mactivation\u001b[0m\u001b[1;33m=\u001b[0m\u001b[1;34m'relu'\u001b[0m\u001b[1;33m,\u001b[0m \u001b[0mpadding\u001b[0m\u001b[1;33m=\u001b[0m\u001b[1;34m'valid'\u001b[0m\u001b[1;33m)\u001b[0m\u001b[1;33m,\u001b[0m \u001b[1;31m#C2\u001b[0m\u001b[1;33m\u001b[0m\u001b[1;33m\u001b[0m\u001b[0m\n",
      "\u001b[1;32mD:\\anaconda\\lib\\site-packages\\tensorflow\\python\\trackable\\base.py\u001b[0m in \u001b[0;36m_method_wrapper\u001b[1;34m(self, *args, **kwargs)\u001b[0m\n\u001b[0;32m    203\u001b[0m     \u001b[0mself\u001b[0m\u001b[1;33m.\u001b[0m\u001b[0m_self_setattr_tracking\u001b[0m \u001b[1;33m=\u001b[0m \u001b[1;32mFalse\u001b[0m  \u001b[1;31m# pylint: disable=protected-access\u001b[0m\u001b[1;33m\u001b[0m\u001b[1;33m\u001b[0m\u001b[0m\n\u001b[0;32m    204\u001b[0m     \u001b[1;32mtry\u001b[0m\u001b[1;33m:\u001b[0m\u001b[1;33m\u001b[0m\u001b[1;33m\u001b[0m\u001b[0m\n\u001b[1;32m--> 205\u001b[1;33m       \u001b[0mresult\u001b[0m \u001b[1;33m=\u001b[0m \u001b[0mmethod\u001b[0m\u001b[1;33m(\u001b[0m\u001b[0mself\u001b[0m\u001b[1;33m,\u001b[0m \u001b[1;33m*\u001b[0m\u001b[0margs\u001b[0m\u001b[1;33m,\u001b[0m \u001b[1;33m**\u001b[0m\u001b[0mkwargs\u001b[0m\u001b[1;33m)\u001b[0m\u001b[1;33m\u001b[0m\u001b[1;33m\u001b[0m\u001b[0m\n\u001b[0m\u001b[0;32m    206\u001b[0m     \u001b[1;32mfinally\u001b[0m\u001b[1;33m:\u001b[0m\u001b[1;33m\u001b[0m\u001b[1;33m\u001b[0m\u001b[0m\n\u001b[0;32m    207\u001b[0m       \u001b[0mself\u001b[0m\u001b[1;33m.\u001b[0m\u001b[0m_self_setattr_tracking\u001b[0m \u001b[1;33m=\u001b[0m \u001b[0mprevious_value\u001b[0m  \u001b[1;31m# pylint: disable=protected-access\u001b[0m\u001b[1;33m\u001b[0m\u001b[1;33m\u001b[0m\u001b[0m\n",
      "\u001b[1;32mD:\\anaconda\\lib\\site-packages\\keras\\utils\\traceback_utils.py\u001b[0m in \u001b[0;36merror_handler\u001b[1;34m(*args, **kwargs)\u001b[0m\n\u001b[0;32m     68\u001b[0m             \u001b[1;31m# To get the full stack trace, call:\u001b[0m\u001b[1;33m\u001b[0m\u001b[1;33m\u001b[0m\u001b[0m\n\u001b[0;32m     69\u001b[0m             \u001b[1;31m# `tf.debugging.disable_traceback_filtering()`\u001b[0m\u001b[1;33m\u001b[0m\u001b[1;33m\u001b[0m\u001b[0m\n\u001b[1;32m---> 70\u001b[1;33m             \u001b[1;32mraise\u001b[0m \u001b[0me\u001b[0m\u001b[1;33m.\u001b[0m\u001b[0mwith_traceback\u001b[0m\u001b[1;33m(\u001b[0m\u001b[0mfiltered_tb\u001b[0m\u001b[1;33m)\u001b[0m \u001b[1;32mfrom\u001b[0m \u001b[1;32mNone\u001b[0m\u001b[1;33m\u001b[0m\u001b[1;33m\u001b[0m\u001b[0m\n\u001b[0m\u001b[0;32m     71\u001b[0m         \u001b[1;32mfinally\u001b[0m\u001b[1;33m:\u001b[0m\u001b[1;33m\u001b[0m\u001b[1;33m\u001b[0m\u001b[0m\n\u001b[0;32m     72\u001b[0m             \u001b[1;32mdel\u001b[0m \u001b[0mfiltered_tb\u001b[0m\u001b[1;33m\u001b[0m\u001b[1;33m\u001b[0m\u001b[0m\n",
      "\u001b[1;32mD:\\anaconda\\lib\\site-packages\\keras\\layers\\convolutional\\base_conv.py\u001b[0m in \u001b[0;36mcompute_output_shape\u001b[1;34m(self, input_shape)\u001b[0m\n\u001b[0;32m    352\u001b[0m \u001b[1;33m\u001b[0m\u001b[0m\n\u001b[0;32m    353\u001b[0m         \u001b[1;32mexcept\u001b[0m \u001b[0mValueError\u001b[0m\u001b[1;33m:\u001b[0m\u001b[1;33m\u001b[0m\u001b[1;33m\u001b[0m\u001b[0m\n\u001b[1;32m--> 354\u001b[1;33m             raise ValueError(\n\u001b[0m\u001b[0;32m    355\u001b[0m                 \u001b[1;34m\"One of the dimensions in the output is <= 0 \"\u001b[0m\u001b[1;33m\u001b[0m\u001b[1;33m\u001b[0m\u001b[0m\n\u001b[0;32m    356\u001b[0m                 \u001b[1;34mf\"due to downsampling in {self.name}. Consider \"\u001b[0m\u001b[1;33m\u001b[0m\u001b[1;33m\u001b[0m\u001b[0m\n",
      "\u001b[1;31mValueError\u001b[0m: One of the dimensions in the output is <= 0 due to downsampling in conv2d_21. Consider increasing the input size. Received input shape [None, 2, 2, 120] which would produce output shape with a zero or negative value in a dimension."
     ]
    }
   ],
   "source": [
    "from tensorflow.keras import layers, models\n",
    "lenet = keras.models.Sequential([\n",
    "    keras.layers.Conv2D(6, kernel_size=5, strides=1,  activation='relu', input_shape=(32,32,3), padding='same'), #C1\n",
    "    keras.layers.AveragePooling2D(), #S1\n",
    "    keras.layers.Conv2D(16, kernel_size=5, strides=1, activation='relu', padding='valid'), #C2\n",
    "    keras.layers.AveragePooling2D(), #S2\n",
    "    keras.layers.Conv2D(120, kernel_size=5, strides=1, activation='relu', padding='valid'), #C3\n",
    "    keras.layers.Flatten(), #Flatten    \n",
    "    keras.layers.Dense(84, activation='relu'), #F1\n",
    "    keras.layers.Dense(10, activation='softmax') #Output layer\n",
    "])"
   ]
  },
  {
   "cell_type": "code",
   "execution_count": 17,
   "metadata": {
    "colab": {
     "base_uri": "https://localhost:8080/"
    },
    "id": "cIMnXeihey1Y",
    "outputId": "277253bd-36d7-40e8-9f50-4870c6399030"
   },
   "outputs": [
    {
     "name": "stdout",
     "output_type": "stream",
     "text": [
      "Model: \"sequential_3\"\n",
      "_________________________________________________________________\n",
      " Layer (type)                Output Shape              Param #   \n",
      "=================================================================\n",
      " conv2d_11 (Conv2D)          (None, 32, 32, 6)         456       \n",
      "                                                                 \n",
      " average_pooling2d_6 (Averag  (None, 16, 16, 6)        0         \n",
      " ePooling2D)                                                     \n",
      "                                                                 \n",
      " conv2d_12 (Conv2D)          (None, 12, 12, 16)        2416      \n",
      "                                                                 \n",
      " average_pooling2d_7 (Averag  (None, 6, 6, 16)         0         \n",
      " ePooling2D)                                                     \n",
      "                                                                 \n",
      " conv2d_13 (Conv2D)          (None, 2, 2, 120)         48120     \n",
      "                                                                 \n",
      " flatten_3 (Flatten)         (None, 480)               0         \n",
      "                                                                 \n",
      " dense_6 (Dense)             (None, 84)                40404     \n",
      "                                                                 \n",
      " dense_7 (Dense)             (None, 10)                850       \n",
      "                                                                 \n",
      "=================================================================\n",
      "Total params: 92,246\n",
      "Trainable params: 92,246\n",
      "Non-trainable params: 0\n",
      "_________________________________________________________________\n"
     ]
    }
   ],
   "source": [
    "lenet.summary()"
   ]
  },
  {
   "cell_type": "code",
   "execution_count": 10,
   "metadata": {
    "id": "EFoiESbhey4k"
   },
   "outputs": [],
   "source": [
    "lenet.compile(optimizer='adam', loss=keras.losses.sparse_categorical_crossentropy, metrics=['accuracy'])"
   ]
  },
  {
   "cell_type": "code",
   "execution_count": 11,
   "metadata": {
    "colab": {
     "base_uri": "https://localhost:8080/"
    },
    "id": "BetEuf23fCkZ",
    "outputId": "d6d7094e-3f95-40e8-d092-2bdfa0cccf4a"
   },
   "outputs": [
    {
     "name": "stdout",
     "output_type": "stream",
     "text": [
      "Epoch 1/100\n",
      "1563/1563 [==============================] - 33s 20ms/step - loss: 1.6034 - accuracy: 0.4134 - val_loss: 1.3897 - val_accuracy: 0.4934\n",
      "Epoch 2/100\n",
      "1563/1563 [==============================] - 30s 19ms/step - loss: 1.3313 - accuracy: 0.5235 - val_loss: 1.2409 - val_accuracy: 0.5597\n",
      "Epoch 3/100\n",
      "1563/1563 [==============================] - 30s 19ms/step - loss: 1.1965 - accuracy: 0.5784 - val_loss: 1.1549 - val_accuracy: 0.5929\n",
      "Epoch 4/100\n",
      "1563/1563 [==============================] - 30s 19ms/step - loss: 1.0988 - accuracy: 0.6093 - val_loss: 1.1493 - val_accuracy: 0.5859\n",
      "Epoch 5/100\n",
      "1563/1563 [==============================] - 30s 19ms/step - loss: 1.0269 - accuracy: 0.6365 - val_loss: 1.1139 - val_accuracy: 0.6032\n",
      "Epoch 6/100\n",
      "1563/1563 [==============================] - 30s 19ms/step - loss: 0.9685 - accuracy: 0.6580 - val_loss: 1.0607 - val_accuracy: 0.6241\n",
      "Epoch 7/100\n",
      "1563/1563 [==============================] - 29s 19ms/step - loss: 0.9166 - accuracy: 0.6764 - val_loss: 1.0713 - val_accuracy: 0.6214\n",
      "Epoch 8/100\n",
      "1563/1563 [==============================] - 30s 19ms/step - loss: 0.8750 - accuracy: 0.6918 - val_loss: 1.0548 - val_accuracy: 0.6366\n",
      "Epoch 9/100\n",
      "1563/1563 [==============================] - 30s 19ms/step - loss: 0.8298 - accuracy: 0.7057 - val_loss: 1.1309 - val_accuracy: 0.6169\n",
      "Epoch 10/100\n",
      "1563/1563 [==============================] - 29s 19ms/step - loss: 0.7960 - accuracy: 0.7201 - val_loss: 1.1962 - val_accuracy: 0.6135\n",
      "Epoch 11/100\n",
      "1563/1563 [==============================] - 28s 18ms/step - loss: 0.7615 - accuracy: 0.7301 - val_loss: 1.0985 - val_accuracy: 0.6361\n",
      "Epoch 12/100\n",
      "1563/1563 [==============================] - 30s 19ms/step - loss: 0.7266 - accuracy: 0.7426 - val_loss: 1.1162 - val_accuracy: 0.6299\n",
      "Epoch 13/100\n",
      "1563/1563 [==============================] - 33s 21ms/step - loss: 0.6913 - accuracy: 0.7548 - val_loss: 1.0950 - val_accuracy: 0.6324\n",
      "Epoch 14/100\n",
      "1563/1563 [==============================] - 33s 21ms/step - loss: 0.6605 - accuracy: 0.7663 - val_loss: 1.1226 - val_accuracy: 0.6479\n",
      "Epoch 15/100\n",
      "1563/1563 [==============================] - 31s 20ms/step - loss: 0.6310 - accuracy: 0.7769 - val_loss: 1.1769 - val_accuracy: 0.6351\n",
      "Epoch 16/100\n",
      "1563/1563 [==============================] - 30s 19ms/step - loss: 0.6000 - accuracy: 0.7852 - val_loss: 1.1980 - val_accuracy: 0.6293\n",
      "Epoch 17/100\n",
      "1563/1563 [==============================] - 30s 19ms/step - loss: 0.5739 - accuracy: 0.7946 - val_loss: 1.2311 - val_accuracy: 0.6357\n",
      "Epoch 18/100\n",
      "1563/1563 [==============================] - 30s 19ms/step - loss: 0.5461 - accuracy: 0.8046 - val_loss: 1.2500 - val_accuracy: 0.6362\n",
      "Epoch 19/100\n",
      "1563/1563 [==============================] - 33s 21ms/step - loss: 0.5252 - accuracy: 0.8122 - val_loss: 1.2921 - val_accuracy: 0.6279\n",
      "Epoch 20/100\n",
      "1563/1563 [==============================] - 33s 21ms/step - loss: 0.4987 - accuracy: 0.8209 - val_loss: 1.3061 - val_accuracy: 0.6287\n",
      "Epoch 21/100\n",
      "1563/1563 [==============================] - 33s 21ms/step - loss: 0.4714 - accuracy: 0.8308 - val_loss: 1.3309 - val_accuracy: 0.6334\n",
      "Epoch 22/100\n",
      "1563/1563 [==============================] - 31s 20ms/step - loss: 0.4503 - accuracy: 0.8375 - val_loss: 1.4167 - val_accuracy: 0.6272\n",
      "Epoch 23/100\n",
      "1563/1563 [==============================] - 31s 20ms/step - loss: 0.4290 - accuracy: 0.8447 - val_loss: 1.5532 - val_accuracy: 0.6169\n",
      "Epoch 24/100\n",
      "1563/1563 [==============================] - 29s 19ms/step - loss: 0.4152 - accuracy: 0.8495 - val_loss: 1.5154 - val_accuracy: 0.6272\n",
      "Epoch 25/100\n",
      "1563/1563 [==============================] - 32s 21ms/step - loss: 0.3923 - accuracy: 0.8575 - val_loss: 1.5833 - val_accuracy: 0.6206\n",
      "Epoch 26/100\n",
      "1563/1563 [==============================] - 30s 19ms/step - loss: 0.3745 - accuracy: 0.8641 - val_loss: 1.6358 - val_accuracy: 0.6133\n",
      "Epoch 27/100\n",
      "1563/1563 [==============================] - 30s 19ms/step - loss: 0.3628 - accuracy: 0.8683 - val_loss: 1.6623 - val_accuracy: 0.6224\n",
      "Epoch 28/100\n",
      "1563/1563 [==============================] - 30s 19ms/step - loss: 0.3519 - accuracy: 0.8713 - val_loss: 1.7141 - val_accuracy: 0.6174\n",
      "Epoch 29/100\n",
      "1563/1563 [==============================] - 30s 19ms/step - loss: 0.3360 - accuracy: 0.8778 - val_loss: 1.8608 - val_accuracy: 0.6069\n",
      "Epoch 30/100\n",
      "1563/1563 [==============================] - 30s 19ms/step - loss: 0.3164 - accuracy: 0.8850 - val_loss: 1.8508 - val_accuracy: 0.6193\n",
      "Epoch 31/100\n",
      "1563/1563 [==============================] - 30s 19ms/step - loss: 0.3018 - accuracy: 0.8897 - val_loss: 1.9196 - val_accuracy: 0.6117\n",
      "Epoch 32/100\n",
      "1563/1563 [==============================] - 30s 19ms/step - loss: 0.2916 - accuracy: 0.8931 - val_loss: 1.9861 - val_accuracy: 0.6123\n",
      "Epoch 33/100\n",
      "1563/1563 [==============================] - 29s 19ms/step - loss: 0.2879 - accuracy: 0.8954 - val_loss: 2.0176 - val_accuracy: 0.6071\n",
      "Epoch 34/100\n",
      "1563/1563 [==============================] - 29s 19ms/step - loss: 0.2704 - accuracy: 0.9007 - val_loss: 2.1062 - val_accuracy: 0.6085\n",
      "Epoch 35/100\n",
      "1563/1563 [==============================] - 30s 19ms/step - loss: 0.2661 - accuracy: 0.9034 - val_loss: 2.1448 - val_accuracy: 0.6133\n",
      "Epoch 36/100\n",
      "1563/1563 [==============================] - 30s 19ms/step - loss: 0.2567 - accuracy: 0.9086 - val_loss: 2.2676 - val_accuracy: 0.6119\n",
      "Epoch 37/100\n",
      "1563/1563 [==============================] - 30s 19ms/step - loss: 0.2514 - accuracy: 0.9097 - val_loss: 2.3205 - val_accuracy: 0.6012\n",
      "Epoch 38/100\n",
      "1563/1563 [==============================] - 29s 19ms/step - loss: 0.2386 - accuracy: 0.9148 - val_loss: 2.3292 - val_accuracy: 0.6026\n",
      "Epoch 39/100\n",
      "1563/1563 [==============================] - 20s 13ms/step - loss: 0.2317 - accuracy: 0.9159 - val_loss: 2.5056 - val_accuracy: 0.6016\n",
      "Epoch 40/100\n",
      "1563/1563 [==============================] - 20s 13ms/step - loss: 0.2225 - accuracy: 0.9190 - val_loss: 2.5417 - val_accuracy: 0.6084\n",
      "Epoch 41/100\n",
      "1563/1563 [==============================] - 20s 13ms/step - loss: 0.2260 - accuracy: 0.9185 - val_loss: 2.5461 - val_accuracy: 0.6033\n",
      "Epoch 42/100\n",
      "1563/1563 [==============================] - 20s 13ms/step - loss: 0.2144 - accuracy: 0.9218 - val_loss: 2.6110 - val_accuracy: 0.6086\n",
      "Epoch 43/100\n",
      "1563/1563 [==============================] - 20s 13ms/step - loss: 0.2162 - accuracy: 0.9230 - val_loss: 2.6436 - val_accuracy: 0.6075\n",
      "Epoch 44/100\n",
      "1563/1563 [==============================] - 25s 16ms/step - loss: 0.2040 - accuracy: 0.9271 - val_loss: 2.7799 - val_accuracy: 0.6056\n",
      "Epoch 45/100\n",
      "1563/1563 [==============================] - 30s 19ms/step - loss: 0.2044 - accuracy: 0.9269 - val_loss: 2.7906 - val_accuracy: 0.6074\n",
      "Epoch 46/100\n",
      "1563/1563 [==============================] - 30s 19ms/step - loss: 0.1879 - accuracy: 0.9319 - val_loss: 2.8509 - val_accuracy: 0.5991\n",
      "Epoch 47/100\n",
      "1563/1563 [==============================] - 29s 19ms/step - loss: 0.1964 - accuracy: 0.9286 - val_loss: 2.8361 - val_accuracy: 0.6028\n",
      "Epoch 48/100\n",
      "1563/1563 [==============================] - 30s 19ms/step - loss: 0.1867 - accuracy: 0.9339 - val_loss: 2.9817 - val_accuracy: 0.6062\n",
      "Epoch 49/100\n",
      "1563/1563 [==============================] - 30s 19ms/step - loss: 0.1931 - accuracy: 0.9303 - val_loss: 2.9633 - val_accuracy: 0.6040\n",
      "Epoch 50/100\n",
      "1563/1563 [==============================] - 30s 19ms/step - loss: 0.1803 - accuracy: 0.9353 - val_loss: 2.9842 - val_accuracy: 0.6077\n",
      "Epoch 51/100\n",
      "1563/1563 [==============================] - 30s 19ms/step - loss: 0.1844 - accuracy: 0.9339 - val_loss: 3.0064 - val_accuracy: 0.6017\n",
      "Epoch 52/100\n",
      "1563/1563 [==============================] - 29s 19ms/step - loss: 0.1715 - accuracy: 0.9398 - val_loss: 3.0657 - val_accuracy: 0.5978\n",
      "Epoch 53/100\n",
      "1563/1563 [==============================] - 29s 19ms/step - loss: 0.1709 - accuracy: 0.9396 - val_loss: 3.2234 - val_accuracy: 0.5984\n",
      "Epoch 54/100\n",
      "1563/1563 [==============================] - 30s 19ms/step - loss: 0.1654 - accuracy: 0.9415 - val_loss: 3.2785 - val_accuracy: 0.6039\n",
      "Epoch 55/100\n",
      "1563/1563 [==============================] - 30s 19ms/step - loss: 0.1664 - accuracy: 0.9411 - val_loss: 3.3895 - val_accuracy: 0.5991\n",
      "Epoch 56/100\n"
     ]
    },
    {
     "name": "stdout",
     "output_type": "stream",
     "text": [
      "1563/1563 [==============================] - 31s 20ms/step - loss: 0.1593 - accuracy: 0.9447 - val_loss: 3.6145 - val_accuracy: 0.6006\n",
      "Epoch 57/100\n",
      "1563/1563 [==============================] - 32s 21ms/step - loss: 0.1681 - accuracy: 0.9421 - val_loss: 3.5118 - val_accuracy: 0.6012\n",
      "Epoch 58/100\n",
      "1563/1563 [==============================] - 33s 21ms/step - loss: 0.1560 - accuracy: 0.9451 - val_loss: 3.4841 - val_accuracy: 0.5979\n",
      "Epoch 59/100\n",
      "1563/1563 [==============================] - 32s 21ms/step - loss: 0.1564 - accuracy: 0.9449 - val_loss: 3.4127 - val_accuracy: 0.5968\n",
      "Epoch 60/100\n",
      "1563/1563 [==============================] - 31s 20ms/step - loss: 0.1591 - accuracy: 0.9449 - val_loss: 3.5600 - val_accuracy: 0.5959\n",
      "Epoch 61/100\n",
      "1563/1563 [==============================] - 31s 20ms/step - loss: 0.1616 - accuracy: 0.9438 - val_loss: 3.4721 - val_accuracy: 0.6038\n",
      "Epoch 62/100\n",
      "1563/1563 [==============================] - 31s 20ms/step - loss: 0.1483 - accuracy: 0.9485 - val_loss: 3.5653 - val_accuracy: 0.6037\n",
      "Epoch 63/100\n",
      "1563/1563 [==============================] - 31s 20ms/step - loss: 0.1481 - accuracy: 0.9480 - val_loss: 3.6072 - val_accuracy: 0.5998\n",
      "Epoch 64/100\n",
      "1563/1563 [==============================] - 30s 19ms/step - loss: 0.1612 - accuracy: 0.9450 - val_loss: 3.7386 - val_accuracy: 0.5931\n",
      "Epoch 65/100\n",
      " 161/1563 [==>...........................] - ETA: 24s - loss: 0.1069 - accuracy: 0.9596"
     ]
    },
    {
     "ename": "KeyboardInterrupt",
     "evalue": "",
     "output_type": "error",
     "traceback": [
      "\u001b[1;31m---------------------------------------------------------------------------\u001b[0m",
      "\u001b[1;31mKeyboardInterrupt\u001b[0m                         Traceback (most recent call last)",
      "\u001b[1;32m~\\AppData\\Local\\Temp\\ipykernel_14864\\2572915673.py\u001b[0m in \u001b[0;36m<module>\u001b[1;34m\u001b[0m\n\u001b[1;32m----> 1\u001b[1;33m \u001b[0mhist\u001b[0m \u001b[1;33m=\u001b[0m \u001b[0mlenet\u001b[0m\u001b[1;33m.\u001b[0m\u001b[0mfit\u001b[0m\u001b[1;33m(\u001b[0m\u001b[0mx_train\u001b[0m\u001b[1;33m,\u001b[0m \u001b[0my_train\u001b[0m\u001b[1;33m,\u001b[0m \u001b[0mepochs\u001b[0m\u001b[1;33m=\u001b[0m\u001b[1;36m100\u001b[0m\u001b[1;33m,\u001b[0m \u001b[0mvalidation_data\u001b[0m\u001b[1;33m=\u001b[0m\u001b[1;33m(\u001b[0m\u001b[0mx_test\u001b[0m\u001b[1;33m,\u001b[0m \u001b[0my_test\u001b[0m\u001b[1;33m)\u001b[0m\u001b[1;33m,\u001b[0m\u001b[0mverbose\u001b[0m\u001b[1;33m=\u001b[0m\u001b[1;36m1\u001b[0m\u001b[1;33m)\u001b[0m\u001b[1;33m\u001b[0m\u001b[1;33m\u001b[0m\u001b[0m\n\u001b[0m",
      "\u001b[1;32mD:\\anaconda\\lib\\site-packages\\keras\\utils\\traceback_utils.py\u001b[0m in \u001b[0;36merror_handler\u001b[1;34m(*args, **kwargs)\u001b[0m\n\u001b[0;32m     63\u001b[0m         \u001b[0mfiltered_tb\u001b[0m \u001b[1;33m=\u001b[0m \u001b[1;32mNone\u001b[0m\u001b[1;33m\u001b[0m\u001b[1;33m\u001b[0m\u001b[0m\n\u001b[0;32m     64\u001b[0m         \u001b[1;32mtry\u001b[0m\u001b[1;33m:\u001b[0m\u001b[1;33m\u001b[0m\u001b[1;33m\u001b[0m\u001b[0m\n\u001b[1;32m---> 65\u001b[1;33m             \u001b[1;32mreturn\u001b[0m \u001b[0mfn\u001b[0m\u001b[1;33m(\u001b[0m\u001b[1;33m*\u001b[0m\u001b[0margs\u001b[0m\u001b[1;33m,\u001b[0m \u001b[1;33m**\u001b[0m\u001b[0mkwargs\u001b[0m\u001b[1;33m)\u001b[0m\u001b[1;33m\u001b[0m\u001b[1;33m\u001b[0m\u001b[0m\n\u001b[0m\u001b[0;32m     66\u001b[0m         \u001b[1;32mexcept\u001b[0m \u001b[0mException\u001b[0m \u001b[1;32mas\u001b[0m \u001b[0me\u001b[0m\u001b[1;33m:\u001b[0m\u001b[1;33m\u001b[0m\u001b[1;33m\u001b[0m\u001b[0m\n\u001b[0;32m     67\u001b[0m             \u001b[0mfiltered_tb\u001b[0m \u001b[1;33m=\u001b[0m \u001b[0m_process_traceback_frames\u001b[0m\u001b[1;33m(\u001b[0m\u001b[0me\u001b[0m\u001b[1;33m.\u001b[0m\u001b[0m__traceback__\u001b[0m\u001b[1;33m)\u001b[0m\u001b[1;33m\u001b[0m\u001b[1;33m\u001b[0m\u001b[0m\n",
      "\u001b[1;32mD:\\anaconda\\lib\\site-packages\\keras\\engine\\training.py\u001b[0m in \u001b[0;36mfit\u001b[1;34m(self, x, y, batch_size, epochs, verbose, callbacks, validation_split, validation_data, shuffle, class_weight, sample_weight, initial_epoch, steps_per_epoch, validation_steps, validation_batch_size, validation_freq, max_queue_size, workers, use_multiprocessing)\u001b[0m\n\u001b[0;32m   1683\u001b[0m                         ):\n\u001b[0;32m   1684\u001b[0m                             \u001b[0mcallbacks\u001b[0m\u001b[1;33m.\u001b[0m\u001b[0mon_train_batch_begin\u001b[0m\u001b[1;33m(\u001b[0m\u001b[0mstep\u001b[0m\u001b[1;33m)\u001b[0m\u001b[1;33m\u001b[0m\u001b[1;33m\u001b[0m\u001b[0m\n\u001b[1;32m-> 1685\u001b[1;33m                             \u001b[0mtmp_logs\u001b[0m \u001b[1;33m=\u001b[0m \u001b[0mself\u001b[0m\u001b[1;33m.\u001b[0m\u001b[0mtrain_function\u001b[0m\u001b[1;33m(\u001b[0m\u001b[0miterator\u001b[0m\u001b[1;33m)\u001b[0m\u001b[1;33m\u001b[0m\u001b[1;33m\u001b[0m\u001b[0m\n\u001b[0m\u001b[0;32m   1686\u001b[0m                             \u001b[1;32mif\u001b[0m \u001b[0mdata_handler\u001b[0m\u001b[1;33m.\u001b[0m\u001b[0mshould_sync\u001b[0m\u001b[1;33m:\u001b[0m\u001b[1;33m\u001b[0m\u001b[1;33m\u001b[0m\u001b[0m\n\u001b[0;32m   1687\u001b[0m                                 \u001b[0mcontext\u001b[0m\u001b[1;33m.\u001b[0m\u001b[0masync_wait\u001b[0m\u001b[1;33m(\u001b[0m\u001b[1;33m)\u001b[0m\u001b[1;33m\u001b[0m\u001b[1;33m\u001b[0m\u001b[0m\n",
      "\u001b[1;32mD:\\anaconda\\lib\\site-packages\\tensorflow\\python\\util\\traceback_utils.py\u001b[0m in \u001b[0;36merror_handler\u001b[1;34m(*args, **kwargs)\u001b[0m\n\u001b[0;32m    148\u001b[0m     \u001b[0mfiltered_tb\u001b[0m \u001b[1;33m=\u001b[0m \u001b[1;32mNone\u001b[0m\u001b[1;33m\u001b[0m\u001b[1;33m\u001b[0m\u001b[0m\n\u001b[0;32m    149\u001b[0m     \u001b[1;32mtry\u001b[0m\u001b[1;33m:\u001b[0m\u001b[1;33m\u001b[0m\u001b[1;33m\u001b[0m\u001b[0m\n\u001b[1;32m--> 150\u001b[1;33m       \u001b[1;32mreturn\u001b[0m \u001b[0mfn\u001b[0m\u001b[1;33m(\u001b[0m\u001b[1;33m*\u001b[0m\u001b[0margs\u001b[0m\u001b[1;33m,\u001b[0m \u001b[1;33m**\u001b[0m\u001b[0mkwargs\u001b[0m\u001b[1;33m)\u001b[0m\u001b[1;33m\u001b[0m\u001b[1;33m\u001b[0m\u001b[0m\n\u001b[0m\u001b[0;32m    151\u001b[0m     \u001b[1;32mexcept\u001b[0m \u001b[0mException\u001b[0m \u001b[1;32mas\u001b[0m \u001b[0me\u001b[0m\u001b[1;33m:\u001b[0m\u001b[1;33m\u001b[0m\u001b[1;33m\u001b[0m\u001b[0m\n\u001b[0;32m    152\u001b[0m       \u001b[0mfiltered_tb\u001b[0m \u001b[1;33m=\u001b[0m \u001b[0m_process_traceback_frames\u001b[0m\u001b[1;33m(\u001b[0m\u001b[0me\u001b[0m\u001b[1;33m.\u001b[0m\u001b[0m__traceback__\u001b[0m\u001b[1;33m)\u001b[0m\u001b[1;33m\u001b[0m\u001b[1;33m\u001b[0m\u001b[0m\n",
      "\u001b[1;32mD:\\anaconda\\lib\\site-packages\\tensorflow\\python\\eager\\polymorphic_function\\polymorphic_function.py\u001b[0m in \u001b[0;36m__call__\u001b[1;34m(self, *args, **kwds)\u001b[0m\n\u001b[0;32m    892\u001b[0m \u001b[1;33m\u001b[0m\u001b[0m\n\u001b[0;32m    893\u001b[0m       \u001b[1;32mwith\u001b[0m \u001b[0mOptionalXlaContext\u001b[0m\u001b[1;33m(\u001b[0m\u001b[0mself\u001b[0m\u001b[1;33m.\u001b[0m\u001b[0m_jit_compile\u001b[0m\u001b[1;33m)\u001b[0m\u001b[1;33m:\u001b[0m\u001b[1;33m\u001b[0m\u001b[1;33m\u001b[0m\u001b[0m\n\u001b[1;32m--> 894\u001b[1;33m         \u001b[0mresult\u001b[0m \u001b[1;33m=\u001b[0m \u001b[0mself\u001b[0m\u001b[1;33m.\u001b[0m\u001b[0m_call\u001b[0m\u001b[1;33m(\u001b[0m\u001b[1;33m*\u001b[0m\u001b[0margs\u001b[0m\u001b[1;33m,\u001b[0m \u001b[1;33m**\u001b[0m\u001b[0mkwds\u001b[0m\u001b[1;33m)\u001b[0m\u001b[1;33m\u001b[0m\u001b[1;33m\u001b[0m\u001b[0m\n\u001b[0m\u001b[0;32m    895\u001b[0m \u001b[1;33m\u001b[0m\u001b[0m\n\u001b[0;32m    896\u001b[0m       \u001b[0mnew_tracing_count\u001b[0m \u001b[1;33m=\u001b[0m \u001b[0mself\u001b[0m\u001b[1;33m.\u001b[0m\u001b[0mexperimental_get_tracing_count\u001b[0m\u001b[1;33m(\u001b[0m\u001b[1;33m)\u001b[0m\u001b[1;33m\u001b[0m\u001b[1;33m\u001b[0m\u001b[0m\n",
      "\u001b[1;32mD:\\anaconda\\lib\\site-packages\\tensorflow\\python\\eager\\polymorphic_function\\polymorphic_function.py\u001b[0m in \u001b[0;36m_call\u001b[1;34m(self, *args, **kwds)\u001b[0m\n\u001b[0;32m    924\u001b[0m       \u001b[1;31m# In this case we have created variables on the first call, so we run the\u001b[0m\u001b[1;33m\u001b[0m\u001b[1;33m\u001b[0m\u001b[0m\n\u001b[0;32m    925\u001b[0m       \u001b[1;31m# defunned version which is guaranteed to never create variables.\u001b[0m\u001b[1;33m\u001b[0m\u001b[1;33m\u001b[0m\u001b[0m\n\u001b[1;32m--> 926\u001b[1;33m       \u001b[1;32mreturn\u001b[0m \u001b[0mself\u001b[0m\u001b[1;33m.\u001b[0m\u001b[0m_no_variable_creation_fn\u001b[0m\u001b[1;33m(\u001b[0m\u001b[1;33m*\u001b[0m\u001b[0margs\u001b[0m\u001b[1;33m,\u001b[0m \u001b[1;33m**\u001b[0m\u001b[0mkwds\u001b[0m\u001b[1;33m)\u001b[0m  \u001b[1;31m# pylint: disable=not-callable\u001b[0m\u001b[1;33m\u001b[0m\u001b[1;33m\u001b[0m\u001b[0m\n\u001b[0m\u001b[0;32m    927\u001b[0m     \u001b[1;32melif\u001b[0m \u001b[0mself\u001b[0m\u001b[1;33m.\u001b[0m\u001b[0m_variable_creation_fn\u001b[0m \u001b[1;32mis\u001b[0m \u001b[1;32mnot\u001b[0m \u001b[1;32mNone\u001b[0m\u001b[1;33m:\u001b[0m\u001b[1;33m\u001b[0m\u001b[1;33m\u001b[0m\u001b[0m\n\u001b[0;32m    928\u001b[0m       \u001b[1;31m# Release the lock early so that multiple threads can perform the call\u001b[0m\u001b[1;33m\u001b[0m\u001b[1;33m\u001b[0m\u001b[0m\n",
      "\u001b[1;32mD:\\anaconda\\lib\\site-packages\\tensorflow\\python\\eager\\polymorphic_function\\tracing_compiler.py\u001b[0m in \u001b[0;36m__call__\u001b[1;34m(self, *args, **kwargs)\u001b[0m\n\u001b[0;32m    141\u001b[0m       (concrete_function,\n\u001b[0;32m    142\u001b[0m        filtered_flat_args) = self._maybe_define_function(args, kwargs)\n\u001b[1;32m--> 143\u001b[1;33m     return concrete_function._call_flat(\n\u001b[0m\u001b[0;32m    144\u001b[0m         filtered_flat_args, captured_inputs=concrete_function.captured_inputs)  # pylint: disable=protected-access\n\u001b[0;32m    145\u001b[0m \u001b[1;33m\u001b[0m\u001b[0m\n",
      "\u001b[1;32mD:\\anaconda\\lib\\site-packages\\tensorflow\\python\\eager\\polymorphic_function\\monomorphic_function.py\u001b[0m in \u001b[0;36m_call_flat\u001b[1;34m(self, args, captured_inputs, cancellation_manager)\u001b[0m\n\u001b[0;32m   1755\u001b[0m         and executing_eagerly):\n\u001b[0;32m   1756\u001b[0m       \u001b[1;31m# No tape is watching; skip to running the function.\u001b[0m\u001b[1;33m\u001b[0m\u001b[1;33m\u001b[0m\u001b[0m\n\u001b[1;32m-> 1757\u001b[1;33m       return self._build_call_outputs(self._inference_function.call(\n\u001b[0m\u001b[0;32m   1758\u001b[0m           ctx, args, cancellation_manager=cancellation_manager))\n\u001b[0;32m   1759\u001b[0m     forward_backward = self._select_forward_and_backward_functions(\n",
      "\u001b[1;32mD:\\anaconda\\lib\\site-packages\\tensorflow\\python\\eager\\polymorphic_function\\monomorphic_function.py\u001b[0m in \u001b[0;36mcall\u001b[1;34m(self, ctx, args, cancellation_manager)\u001b[0m\n\u001b[0;32m    379\u001b[0m       \u001b[1;32mwith\u001b[0m \u001b[0m_InterpolateFunctionError\u001b[0m\u001b[1;33m(\u001b[0m\u001b[0mself\u001b[0m\u001b[1;33m)\u001b[0m\u001b[1;33m:\u001b[0m\u001b[1;33m\u001b[0m\u001b[1;33m\u001b[0m\u001b[0m\n\u001b[0;32m    380\u001b[0m         \u001b[1;32mif\u001b[0m \u001b[0mcancellation_manager\u001b[0m \u001b[1;32mis\u001b[0m \u001b[1;32mNone\u001b[0m\u001b[1;33m:\u001b[0m\u001b[1;33m\u001b[0m\u001b[1;33m\u001b[0m\u001b[0m\n\u001b[1;32m--> 381\u001b[1;33m           outputs = execute.execute(\n\u001b[0m\u001b[0;32m    382\u001b[0m               \u001b[0mstr\u001b[0m\u001b[1;33m(\u001b[0m\u001b[0mself\u001b[0m\u001b[1;33m.\u001b[0m\u001b[0msignature\u001b[0m\u001b[1;33m.\u001b[0m\u001b[0mname\u001b[0m\u001b[1;33m)\u001b[0m\u001b[1;33m,\u001b[0m\u001b[1;33m\u001b[0m\u001b[1;33m\u001b[0m\u001b[0m\n\u001b[0;32m    383\u001b[0m               \u001b[0mnum_outputs\u001b[0m\u001b[1;33m=\u001b[0m\u001b[0mself\u001b[0m\u001b[1;33m.\u001b[0m\u001b[0m_num_outputs\u001b[0m\u001b[1;33m,\u001b[0m\u001b[1;33m\u001b[0m\u001b[1;33m\u001b[0m\u001b[0m\n",
      "\u001b[1;32mD:\\anaconda\\lib\\site-packages\\tensorflow\\python\\eager\\execute.py\u001b[0m in \u001b[0;36mquick_execute\u001b[1;34m(op_name, num_outputs, inputs, attrs, ctx, name)\u001b[0m\n\u001b[0;32m     50\u001b[0m   \u001b[1;32mtry\u001b[0m\u001b[1;33m:\u001b[0m\u001b[1;33m\u001b[0m\u001b[1;33m\u001b[0m\u001b[0m\n\u001b[0;32m     51\u001b[0m     \u001b[0mctx\u001b[0m\u001b[1;33m.\u001b[0m\u001b[0mensure_initialized\u001b[0m\u001b[1;33m(\u001b[0m\u001b[1;33m)\u001b[0m\u001b[1;33m\u001b[0m\u001b[1;33m\u001b[0m\u001b[0m\n\u001b[1;32m---> 52\u001b[1;33m     tensors = pywrap_tfe.TFE_Py_Execute(ctx._handle, device_name, op_name,\n\u001b[0m\u001b[0;32m     53\u001b[0m                                         inputs, attrs, num_outputs)\n\u001b[0;32m     54\u001b[0m   \u001b[1;32mexcept\u001b[0m \u001b[0mcore\u001b[0m\u001b[1;33m.\u001b[0m\u001b[0m_NotOkStatusException\u001b[0m \u001b[1;32mas\u001b[0m \u001b[0me\u001b[0m\u001b[1;33m:\u001b[0m\u001b[1;33m\u001b[0m\u001b[1;33m\u001b[0m\u001b[0m\n",
      "\u001b[1;31mKeyboardInterrupt\u001b[0m: "
     ]
    }
   ],
   "source": [
    "hist = lenet.fit(x_train, y_train, epochs=100, validation_data=(x_test, y_test),verbose=1)"
   ]
  },
  {
   "cell_type": "code",
   "execution_count": null,
   "metadata": {
    "colab": {
     "base_uri": "https://localhost:8080/",
     "height": 573
    },
    "id": "lPOpm7ZZfCnu",
    "outputId": "1aef3799-bfcc-48d8-eca9-4a58722d2f19"
   },
   "outputs": [],
   "source": [
    "# summarize history for accuracy\n",
    "plt.plot(hist.history['accuracy'])\n",
    "plt.plot(hist.history['val_accuracy'])\n",
    "plt.title(\"Accuracy by LeNet on CIFAR-10 Data\")\n",
    "plt.ylabel('Accuracy')\n",
    "plt.xlabel('Epochs')\n",
    "plt.legend(['Train', 'Validation'], loc='upper left')\n",
    "plt.show()\n",
    "# summarize history for loss\n",
    "plt.plot(hist.history['loss'])\n",
    "plt.plot(hist.history['val_loss'])\n",
    "plt.title('Loss by LeNet on CIFAR-10 Data')\n",
    "plt.ylabel('Loss')\n",
    "plt.xlabel('Epochs')\n",
    "plt.legend(['Train', 'Validation'])\n",
    "plt.show()"
   ]
  },
  {
   "cell_type": "code",
   "execution_count": null,
   "metadata": {
    "colab": {
     "base_uri": "https://localhost:8080/"
    },
    "id": "rWDxmUWtfCq0",
    "outputId": "3b044f6f-d2e3-400f-c443-3ba77f57f7b1"
   },
   "outputs": [],
   "source": [
    "from sklearn.metrics import confusion_matrix\n",
    "from sklearn.metrics import ConfusionMatrixDisplay\n",
    "y_predictions= lenet.predict(x_test)\n",
    "y_predictions.reshape(-1,)\n",
    "y_predictions= np.argmax(y_predictions, axis=1)\n",
    "\n",
    "confusion_matrix(y_test, y_predictions)"
   ]
  },
  {
   "cell_type": "code",
   "execution_count": null,
   "metadata": {
    "colab": {
     "base_uri": "https://localhost:8080/",
     "height": 426
    },
    "id": "998kz2tOfXXT",
    "outputId": "fa8f03f2-2203-4eb3-9e8a-3c8cb435174e"
   },
   "outputs": [],
   "source": [
    "# confusion matrix and accuracy\n",
    "from sklearn.metrics import confusion_matrix, accuracy_score\n",
    "plt.figure(figsize=(7, 6))\n",
    "plt.title('Confusion matrix', fontsize=16)\n",
    "plt.imshow(confusion_matrix(y_test, y_predictions))\n",
    "plt.xticks(np.arange(10), classes, rotation=45, fontsize=12)\n",
    "plt.yticks(np.arange(10), classes, fontsize=12)\n",
    "plt.colorbar()\n",
    "plt.show()"
   ]
  },
  {
   "cell_type": "code",
   "execution_count": null,
   "metadata": {
    "colab": {
     "base_uri": "https://localhost:8080/"
    },
    "id": "73YHBICjfXaW",
    "outputId": "a0b5e869-fc83-4733-f0f3-3a8ea90d8346"
   },
   "outputs": [],
   "source": [
    "print(\"Test accuracy:\", accuracy_score(y_test, y_predictions))"
   ]
  },
  {
   "cell_type": "code",
   "execution_count": null,
   "metadata": {
    "colab": {
     "base_uri": "https://localhost:8080/",
     "height": 1000
    },
    "id": "lwyfTtXufXdQ",
    "outputId": "212cf751-cbd9-409c-ab5e-6a5b8e72ad77"
   },
   "outputs": [],
   "source": [
    "L = 8\n",
    "W = 8\n",
    "fig, axes = plt.subplots(L, W, figsize = (20,20))\n",
    "axes = axes.ravel() # \n",
    "\n",
    "for i in np.arange(0, L * W):  \n",
    "    axes[i].imshow(x_test[i])\n",
    "    axes[i].set_title(\"Predicted = {}\\n Actual  = {}\".format(classes[y_predictions[i]], classes[y_test[i]]))\n",
    "    axes[i].axis('off')\n",
    "\n",
    "plt.subplots_adjust(wspace=1)"
   ]
  },
  {
   "cell_type": "code",
   "execution_count": null,
   "metadata": {
    "id": "xYwkGgOmfh_L"
   },
   "outputs": [],
   "source": [
    "from tensorflow.keras.models import Sequential\n",
    "from tensorflow.keras.layers import Dense, Conv2D\n",
    "from tensorflow.keras.layers import Dropout\n",
    "from tensorflow.keras.layers import Flatten\n",
    "from tensorflow.keras.optimizers import SGD, Adam\n",
    "from keras.layers.convolutional import Convolution2D\n",
    "from keras.layers.convolutional import MaxPooling2D"
   ]
  },
  {
   "cell_type": "code",
   "execution_count": null,
   "metadata": {
    "colab": {
     "base_uri": "https://localhost:8080/"
    },
    "id": "QcK9oKMzfiCH",
    "outputId": "72ea7b0b-98ac-4c54-a3b6-7273560c936a"
   },
   "outputs": [],
   "source": [
    "#Define Alexnet Model\n",
    "AlexNet = Sequential()\n",
    "AlexNet.add(Conv2D(filters=16,kernel_size=(3,3),strides=(4,4),input_shape=(32,32,3), activation='relu'))\n",
    "AlexNet.add(MaxPooling2D(pool_size=(2,2),strides=(2,2)))\n",
    "AlexNet.add(Conv2D(60,(5,5),padding='same',activation='relu'))\n",
    "AlexNet.add(MaxPooling2D(pool_size=(2,2),strides=(2,2)))\n",
    "AlexNet.add(Conv2D(60,(3,3),padding='same',activation='relu'))\n",
    "AlexNet.add(Conv2D(30,(3,3),padding='same',activation='relu'))\n",
    "AlexNet.add(Conv2D(20,(3,3),padding='same',activation='relu'))\n",
    "AlexNet.add(MaxPooling2D(pool_size=(2,2),strides=(2,2)))\n",
    "AlexNet.add(Flatten())\n",
    "AlexNet.add(Dense(200, activation='relu'))\n",
    "AlexNet.add(Dropout(0.1))\n",
    "AlexNet.add(Dense(200, activation='relu'))\n",
    "AlexNet.add(Dropout(0.1))\n",
    "AlexNet.add(Dense(10,activation='softmax'))\n",
    "\n",
    "AlexNet.compile(optimizer='SGD', loss=keras.losses.sparse_categorical_crossentropy, metrics=['accuracy'])\n",
    "AlexNet.summary()"
   ]
  },
  {
   "cell_type": "code",
   "execution_count": null,
   "metadata": {
    "colab": {
     "base_uri": "https://localhost:8080/"
    },
    "id": "is3qxzG-fiFE",
    "outputId": "35e4b4c0-d50a-48cf-e3d9-c51968c26b6d"
   },
   "outputs": [],
   "source": [
    "history1 = AlexNet.fit(x_train, y_train, epochs=100, validation_data=(x_test, y_test),verbose=1)"
   ]
  },
  {
   "cell_type": "code",
   "execution_count": null,
   "metadata": {
    "colab": {
     "base_uri": "https://localhost:8080/",
     "height": 573
    },
    "id": "X2dS4V4ffw0b",
    "outputId": "bf2805aa-35a3-48d5-ba0a-6eebd9127b1a"
   },
   "outputs": [],
   "source": [
    "# summarize history for accuracy\n",
    "plt.plot(history1.history['accuracy'])\n",
    "plt.plot(history1.history['val_accuracy'])\n",
    "plt.title(\"Accuracy by AlexNet on CIFAR-10 Data\")\n",
    "plt.ylabel('Accuracy')\n",
    "plt.xlabel('Epochs')\n",
    "plt.legend(['Train', 'Validation'], loc='upper left')\n",
    "plt.show()\n",
    "# summarize history for loss\n",
    "plt.plot(history1.history['loss'])\n",
    "plt.plot(history1.history['val_loss'])\n",
    "plt.title('Loss by AlexNet on CIFAR-10 Data')\n",
    "plt.ylabel('Loss')\n",
    "plt.xlabel('Epochs')\n",
    "plt.legend(['Train', 'Validation'])\n",
    "plt.show()"
   ]
  },
  {
   "cell_type": "code",
   "execution_count": null,
   "metadata": {
    "colab": {
     "base_uri": "https://localhost:8080/"
    },
    "id": "w2Pfat0ifw3L",
    "outputId": "3b8d577f-9d56-4bc1-c5ab-274b31f8ed36"
   },
   "outputs": [],
   "source": [
    "y_predictions1 = AlexNet.predict(x_test)\n",
    "y_predictions1.reshape(-1,)\n",
    "y_predictions1= np.argmax(y_predictions1, axis=1)\n",
    "\n",
    "confusion_matrix(y_test, y_predictions1)"
   ]
  },
  {
   "cell_type": "code",
   "execution_count": null,
   "metadata": {
    "colab": {
     "base_uri": "https://localhost:8080/",
     "height": 426
    },
    "id": "bFpQKihzfw7_",
    "outputId": "e91b8289-65ae-46f9-d8a9-bab87083185f"
   },
   "outputs": [],
   "source": [
    "# confusion matrix and accuracy\n",
    "plt.figure(figsize=(7, 6))\n",
    "plt.title('Confusion matrix of AlexNet Model', fontsize=16)\n",
    "plt.imshow(confusion_matrix(y_test, y_predictions1))\n",
    "plt.xticks(np.arange(10), classes, rotation=45, fontsize=12)\n",
    "plt.yticks(np.arange(10), classes, fontsize=12)\n",
    "plt.colorbar()\n",
    "plt.show()"
   ]
  },
  {
   "cell_type": "code",
   "execution_count": null,
   "metadata": {
    "colab": {
     "base_uri": "https://localhost:8080/"
    },
    "id": "OTNTkW_Tf7FO",
    "outputId": "7c5d2462-29c0-47b4-9e14-ff5ed195bce2"
   },
   "outputs": [],
   "source": [
    "print(\"Test accuracy by AlexNet:\", accuracy_score(y_test, y_predictions))"
   ]
  },
  {
   "cell_type": "code",
   "execution_count": null,
   "metadata": {
    "colab": {
     "base_uri": "https://localhost:8080/",
     "height": 1000
    },
    "id": "aJLnelscf7II",
    "outputId": "944486b8-454d-4e9b-db96-cb3cfef78eb3"
   },
   "outputs": [],
   "source": [
    "L = 8\n",
    "W = 8\n",
    "fig, axes = plt.subplots(L, W, figsize = (20,20))\n",
    "axes = axes.ravel() # \n",
    "\n",
    "for i in np.arange(0, L * W):  \n",
    "    axes[i].imshow(x_test[i])\n",
    "    axes[i].set_title(\"Predicted = {}\\n Actual  = {}\".format(classes[y_predictions[i]], classes[y_test[i]]))\n",
    "    axes[i].axis('off')\n",
    "\n",
    "plt.subplots_adjust(wspace=1)"
   ]
  },
  {
   "cell_type": "code",
   "execution_count": null,
   "metadata": {},
   "outputs": [],
   "source": []
  }
 ],
 "metadata": {
  "accelerator": "GPU",
  "colab": {
   "provenance": []
  },
  "gpuClass": "standard",
  "kernelspec": {
   "display_name": "Python 3 (ipykernel)",
   "language": "python",
   "name": "python3"
  },
  "language_info": {
   "codemirror_mode": {
    "name": "ipython",
    "version": 3
   },
   "file_extension": ".py",
   "mimetype": "text/x-python",
   "name": "python",
   "nbconvert_exporter": "python",
   "pygments_lexer": "ipython3",
   "version": "3.9.13"
  }
 },
 "nbformat": 4,
 "nbformat_minor": 1
}
